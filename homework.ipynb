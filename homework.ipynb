{
 "cells": [
  {
   "cell_type": "markdown",
   "id": "379c2771",
   "metadata": {},
   "source": [
    "# Connecting to mlflow"
   ]
  },
  {
   "cell_type": "code",
   "execution_count": 17,
   "id": "fd189553",
   "metadata": {},
   "outputs": [],
   "source": [
    "import mlflow"
   ]
  },
  {
   "cell_type": "code",
   "execution_count": 18,
   "id": "3d2cd88a",
   "metadata": {},
   "outputs": [
    {
     "data": {
      "text/plain": [
       "<Experiment: artifact_location='s3://mlflow/60', creation_time=1747480729078, experiment_id='60', last_update_time=1747480729078, lifecycle_stage='active', name='homework-saumnov.ext', tags={}>"
      ]
     },
     "execution_count": 18,
     "metadata": {},
     "output_type": "execute_result"
    }
   ],
   "source": [
    "mlflow.set_tracking_uri(\"http://51.250.35.156:5000/\")\n",
    "mlflow.set_experiment(\"homework-saumnov.ext\")"
   ]
  },
  {
   "cell_type": "markdown",
   "id": "a220bd30",
   "metadata": {},
   "source": [
    "# Load data"
   ]
  },
  {
   "cell_type": "code",
   "execution_count": 19,
   "id": "d2167b93",
   "metadata": {},
   "outputs": [],
   "source": [
    "from datetime import timedelta\n",
    "import polars as pl\n",
    "import implicit"
   ]
  },
  {
   "cell_type": "code",
   "execution_count": 20,
   "id": "11db3a91",
   "metadata": {},
   "outputs": [],
   "source": [
    "DATA_DIR = 'data/'\n",
    "\n",
    "df_test_users = pl.read_parquet(f'{DATA_DIR}/test_users.pq')\n",
    "df_clickstream = pl.read_parquet(f'{DATA_DIR}/clickstream.pq')\n",
    "\n",
    "df_cat_features = pl.read_parquet(f'{DATA_DIR}/cat_features.pq')\n",
    "df_text_features = pl.read_parquet(f'{DATA_DIR}/text_features.pq')\n",
    "df_event = pl.read_parquet(f'{DATA_DIR}/events.pq')"
   ]
  },
  {
   "cell_type": "markdown",
   "id": "d5325419",
   "metadata": {},
   "source": [
    "# Prepare train eval"
   ]
  },
  {
   "cell_type": "code",
   "execution_count": 21,
   "id": "a8527727",
   "metadata": {},
   "outputs": [],
   "source": [
    "EVAL_DAYS_TRESHOLD = 14"
   ]
  },
  {
   "cell_type": "code",
   "execution_count": 22,
   "id": "23121d8b",
   "metadata": {},
   "outputs": [],
   "source": [
    "treshhold = df_clickstream['event_date'].max() - timedelta(days=EVAL_DAYS_TRESHOLD)"
   ]
  },
  {
   "cell_type": "code",
   "execution_count": 23,
   "id": "4821643d",
   "metadata": {},
   "outputs": [],
   "source": [
    "df_train = df_clickstream.filter(df_clickstream['event_date']<= treshhold)\n",
    "df_eval = df_clickstream.filter(df_clickstream['event_date']> treshhold)[['cookie', 'node', 'event']]"
   ]
  },
  {
   "cell_type": "code",
   "execution_count": 24,
   "id": "68d2a2fa",
   "metadata": {},
   "outputs": [],
   "source": [
    "df_eval = df_eval.join(df_train, on=['cookie', 'node'], how='anti')"
   ]
  },
  {
   "cell_type": "code",
   "execution_count": 25,
   "id": "7dd3d7f9",
   "metadata": {},
   "outputs": [],
   "source": [
    "df_eval = df_eval.filter(\n",
    "    pl.col('event').is_in(\n",
    "        df_event.filter(pl.col('is_contact')==1)['event'].unique()\n",
    "    )\n",
    ")"
   ]
  },
  {
   "cell_type": "code",
   "execution_count": 26,
   "id": "791bbc8f",
   "metadata": {},
   "outputs": [],
   "source": [
    "df_eval = df_eval.filter(\n",
    "        pl.col('cookie').is_in(df_train['cookie'].unique())\n",
    "    ).filter(\n",
    "        pl.col('node').is_in(df_train['node'].unique())\n",
    "    )"
   ]
  },
  {
   "cell_type": "code",
   "execution_count": 27,
   "id": "1f064345",
   "metadata": {},
   "outputs": [],
   "source": [
    "df_eval = df_eval.unique(['cookie', 'node'])"
   ]
  },
  {
   "cell_type": "markdown",
   "id": "35f547b0",
   "metadata": {},
   "source": [
    "# Подсчет метрики"
   ]
  },
  {
   "cell_type": "code",
   "execution_count": 28,
   "id": "accc80ab",
   "metadata": {},
   "outputs": [],
   "source": [
    "def recall_at(df_true, df_pred, k=40):\n",
    "    return  df_true[['node', 'cookie']].join(\n",
    "        df_pred.group_by('cookie').head(k).with_columns(value=1)[['node', 'cookie', 'value']], \n",
    "        how='left',\n",
    "        on = ['cookie', 'node']\n",
    "    ).select(\n",
    "        [pl.col('value').fill_null(0), 'cookie']\n",
    "    ).group_by(\n",
    "        'cookie'\n",
    "    ).agg(\n",
    "        [\n",
    "            pl.col('value').sum()/pl.col(\n",
    "                'value'\n",
    "            ).count()\n",
    "        ]\n",
    "    )['value'].mean()\n"
   ]
  },
  {
   "cell_type": "markdown",
   "id": "59db10ab",
   "metadata": {},
   "source": [
    "# Проведение экспериментов с разными моделями"
   ]
  },
  {
   "cell_type": "markdown",
   "id": "276766b2",
   "metadata": {},
   "source": [
    "## ALS"
   ]
  },
  {
   "cell_type": "code",
   "execution_count": 45,
   "id": "51b33d6c",
   "metadata": {},
   "outputs": [],
   "source": [
    "from scipy.sparse import csr_matrix\n",
    "import numpy as np\n",
    "import implicit\n",
    "import optuna"
   ]
  },
  {
   "cell_type": "code",
   "execution_count": 34,
   "id": "cfc45cb7",
   "metadata": {},
   "outputs": [],
   "source": [
    "def get_als_pred(users,\n",
    "                 nodes,\n",
    "                 user_to_pred,\n",
    "                 factors=60,\n",
    "                 iterations=10,\n",
    "                 regularization=0.01,\n",
    "                 alpha=15,\n",
    "                 random_state=42):\n",
    "    user_ids = users.unique().to_list()\n",
    "    item_ids = nodes.unique().to_list()\n",
    "        \n",
    "    user_id_to_index = {user_id: idx for idx, user_id in enumerate(user_ids)}\n",
    "    item_id_to_index = {item_id: idx for idx, item_id in enumerate(item_ids)}\n",
    "    index_to_item_id = {v:k for k,v in item_id_to_index.items()}\n",
    "    \n",
    "    rows = users.replace_strict(user_id_to_index).to_list()\n",
    "    cols = nodes.replace_strict(item_id_to_index).to_list()\n",
    "    \n",
    "    values = [1] * len(users)\n",
    "    \n",
    "    sparse_matrix = csr_matrix((values, (rows, cols)), shape=(len(user_ids), len(item_ids)))\n",
    "    \n",
    "    model = implicit.als.AlternatingLeastSquares(factors=factors,\n",
    "                                                 iterations=iterations,\n",
    "                                                 regularization=regularization,\n",
    "                                                 alpha=alpha,\n",
    "                                                 random_state=random_state)\n",
    "    model.fit(sparse_matrix, )\n",
    "    \n",
    "    \n",
    "    user4pred = np.array([user_id_to_index[i] for i in user_to_pred])\n",
    "    \n",
    "    recommendations, scores = model.recommend(user4pred, sparse_matrix[user4pred], N=40, filter_already_liked_items=True)\n",
    "    \n",
    "    df_pred = pl.DataFrame(\n",
    "        {\n",
    "            'node': [\n",
    "                [index_to_item_id[i] for i in i] for i in recommendations.tolist()\n",
    "            ], \n",
    "             'cookie': list(user_to_pred),\n",
    "            'scores': scores.tolist()\n",
    "            \n",
    "        }\n",
    "    )\n",
    "    df_pred = df_pred.explode(['node', 'scores'])\n",
    "    return df_pred"
   ]
  },
  {
   "cell_type": "code",
   "execution_count": 42,
   "id": "ed64106a",
   "metadata": {},
   "outputs": [],
   "source": [
    "def als_optuna_mlflow_log(trial):\n",
    "    with mlflow.start_run(run_name=f'als_optuna_trial_{trial.number}'):\n",
    "        factors = trial.suggest_int('factors', 20, 200)\n",
    "        regularization = trial.suggest_float('regularization', 1e-4, 1)\n",
    "        iterations = trial.suggest_int('iterations', 5, 50)\n",
    "        alpha = trial.suggest_float('alpha', 1, 40)\n",
    "        random_state = 42\n",
    "\n",
    "        \n",
    "\n",
    "        users = df_train['cookie']\n",
    "        nodes = df_train['node']\n",
    "        eval_users = df_eval['cookie'].unique().to_list()\n",
    "        df_pred = get_als_pred(users,\n",
    "                               nodes,\n",
    "                               eval_users,\n",
    "                               factors=factors,\n",
    "                               iterations=iterations,\n",
    "                               regularization=regularization,\n",
    "                               alpha=alpha,\n",
    "                               random_state=random_state)\n",
    "\n",
    "        recall_40 = recall_at(df_eval, df_pred, k=40)\n",
    "\n",
    "        mlflow.log_metric('Recall_40', recall_40)\n",
    "        mlflow.log_param('als_factors', factors)\n",
    "        mlflow.log_param('als_regularization', regularization)  \n",
    "        mlflow.log_param('als_iterations', iterations)  \n",
    "        mlflow.log_param('als_alpha', alpha)\n",
    "        mlflow.log_param('als_random_state', random_state)\n",
    "\n",
    "        mlflow.log_param('eval_days_treshold', EVAL_DAYS_TRESHOLD)\n",
    "        mlflow.log_param('model_type', 'als')\n",
    "        mlflow.log_param(\"train_size\", len(df_train))\n",
    "        mlflow.log_param(\"eval_size\", len(df_eval))\n",
    "    \n",
    "        return recall_40"
   ]
  },
  {
   "cell_type": "code",
   "execution_count": 43,
   "id": "4f0a824b",
   "metadata": {},
   "outputs": [
    {
     "name": "stderr",
     "output_type": "stream",
     "text": [
      "[I 2025-05-17 15:10:53,859] A new study created in memory with name: no-name-3253031e-9658-4eef-b3e4-5a4d3f078296\n",
      "100%|██████████| 28/28 [07:28<00:00, 16.01s/it]\n"
     ]
    },
    {
     "name": "stdout",
     "output_type": "stream",
     "text": [
      "🏃 View run als_optuna_trial_0 at: http://51.250.35.156:5000/#/experiments/60/runs/d3d6fc91ca79480ea90e6b1a519efa7f\n",
      "🧪 View experiment at: http://51.250.35.156:5000/#/experiments/60\n"
     ]
    },
    {
     "name": "stderr",
     "output_type": "stream",
     "text": [
      "[I 2025-05-17 15:19:11,120] Trial 0 finished with value: 0.15075733334123784 and parameters: {'factors': 187, 'regularization': 0.18612568999929963, 'iterations': 28, 'alpha': 21.809302283908075}. Best is trial 0 with value: 0.15075733334123784.\n",
      "100%|██████████| 42/42 [05:29<00:00,  7.85s/it]\n"
     ]
    },
    {
     "name": "stdout",
     "output_type": "stream",
     "text": [
      "🏃 View run als_optuna_trial_1 at: http://51.250.35.156:5000/#/experiments/60/runs/63f1ac9de7fa4cad8549dc77c3830bd6\n",
      "🧪 View experiment at: http://51.250.35.156:5000/#/experiments/60\n"
     ]
    },
    {
     "name": "stderr",
     "output_type": "stream",
     "text": [
      "[I 2025-05-17 15:25:56,597] Trial 1 finished with value: 0.1548442179744957 and parameters: {'factors': 133, 'regularization': 0.8229253039930486, 'iterations': 42, 'alpha': 4.798793036980507}. Best is trial 1 with value: 0.1548442179744957.\n",
      "100%|██████████| 44/44 [05:37<00:00,  7.66s/it]\n"
     ]
    },
    {
     "name": "stdout",
     "output_type": "stream",
     "text": [
      "🏃 View run als_optuna_trial_2 at: http://51.250.35.156:5000/#/experiments/60/runs/9cb85ec94b5748f7b922d3d4794f7697\n",
      "🧪 View experiment at: http://51.250.35.156:5000/#/experiments/60\n"
     ]
    },
    {
     "name": "stderr",
     "output_type": "stream",
     "text": [
      "[I 2025-05-17 15:32:18,674] Trial 2 finished with value: 0.14520289088407642 and parameters: {'factors': 130, 'regularization': 0.5318149698356839, 'iterations': 44, 'alpha': 34.856096302533395}. Best is trial 1 with value: 0.1548442179744957.\n",
      "100%|██████████| 37/37 [09:17<00:00, 15.06s/it]\n"
     ]
    },
    {
     "name": "stdout",
     "output_type": "stream",
     "text": [
      "🏃 View run als_optuna_trial_3 at: http://51.250.35.156:5000/#/experiments/60/runs/83d173bad8864831b519d6f609d2e4e0\n",
      "🧪 View experiment at: http://51.250.35.156:5000/#/experiments/60\n"
     ]
    },
    {
     "name": "stderr",
     "output_type": "stream",
     "text": [
      "[I 2025-05-17 15:42:24,244] Trial 3 finished with value: 0.14629017796373628 and parameters: {'factors': 181, 'regularization': 0.5180131772067913, 'iterations': 37, 'alpha': 33.16937899619416}. Best is trial 1 with value: 0.1548442179744957.\n",
      "100%|██████████| 41/41 [09:21<00:00, 13.70s/it]\n"
     ]
    },
    {
     "name": "stdout",
     "output_type": "stream",
     "text": [
      "🏃 View run als_optuna_trial_4 at: http://51.250.35.156:5000/#/experiments/60/runs/c354503a18464e41bba91d083fe1b234\n",
      "🧪 View experiment at: http://51.250.35.156:5000/#/experiments/60\n"
     ]
    },
    {
     "name": "stderr",
     "output_type": "stream",
     "text": [
      "[I 2025-05-17 15:52:31,512] Trial 4 finished with value: 0.14369405675050986 and parameters: {'factors': 171, 'regularization': 0.24253951590180067, 'iterations': 41, 'alpha': 37.37736328147678}. Best is trial 1 with value: 0.1548442179744957.\n"
     ]
    }
   ],
   "source": [
    "study = optuna.create_study(direction=\"maximize\")\n",
    "study.optimize(als_optuna_mlflow_log, n_trials=5)"
   ]
  },
  {
   "cell_type": "markdown",
   "id": "bb07e54a",
   "metadata": {},
   "source": [
    "## Popular"
   ]
  },
  {
   "cell_type": "code",
   "execution_count": 46,
   "id": "1c776d04",
   "metadata": {},
   "outputs": [],
   "source": [
    "def get_popular(df):\n",
    "    popukar_node = df.group_by('node').agg(pl.col('cookie').count()).sort('cookie').tail(40)['node'].to_list()\n",
    "    df_pred_pop = pl.DataFrame({'node': [popukar_node for i in range(len(eval_users))], 'cookie': eval_users})\n",
    "    df_pred_pop = df_pred_pop.explode('node')\n",
    "    return df_pred_pop\n"
   ]
  },
  {
   "cell_type": "code",
   "execution_count": 48,
   "id": "f8b51cce",
   "metadata": {},
   "outputs": [
    {
     "name": "stdout",
     "output_type": "stream",
     "text": [
      "🏃 View run popular at: http://51.250.35.156:5000/#/experiments/60/runs/6fc1a333eb0c4213bd213878437e9ad4\n",
      "🧪 View experiment at: http://51.250.35.156:5000/#/experiments/60\n"
     ]
    }
   ],
   "source": [
    "with mlflow.start_run(run_name='popular'):\n",
    "\n",
    "    users = df_train[\"cookie\"]\n",
    "    nodes = df_train[\"node\"]\n",
    "    eval_users = df_eval['cookie'].unique().to_list()\n",
    "\n",
    "    train_pop = get_popular(df_train)\n",
    "    recall_40 = recall_at(df_eval, train_pop, k=40)\n",
    "    mlflow.log_metric('Recall_40', recall_40)\n",
    "    mlflow.log_param('model_type', 'popular')\n",
    "    mlflow.log_param('eval_days_treshold', EVAL_DAYS_TRESHOLD)\n",
    "    mlflow.log_param(\"train_size\", len(df_train))\n",
    "    mlflow.log_param(\"eval_size\", len(df_eval))"
   ]
  }
 ],
 "metadata": {
  "kernelspec": {
   "display_name": ".venv",
   "language": "python",
   "name": "python3"
  },
  "language_info": {
   "codemirror_mode": {
    "name": "ipython",
    "version": 3
   },
   "file_extension": ".py",
   "mimetype": "text/x-python",
   "name": "python",
   "nbconvert_exporter": "python",
   "pygments_lexer": "ipython3",
   "version": "3.13.1"
  }
 },
 "nbformat": 4,
 "nbformat_minor": 5
}
